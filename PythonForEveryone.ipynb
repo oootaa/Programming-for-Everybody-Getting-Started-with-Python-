{
 "cells": [
  {
   "cell_type": "markdown",
   "metadata": {},
   "source": [
    "## Quiz 1"
   ]
  },
  {
   "cell_type": "markdown",
   "metadata": {},
   "source": [
    "When Python is running in the interactive mode and displaying the chevron prompt (>>>) - what question is Python asking you?\n",
    "\n",
    "What is the next machine language instruction to run?\n",
    "\n",
    "What Python script would you like me to run?\n",
    "\n",
    "What is your favourite color?\n",
    "\n",
    "`What would you like to do?`"
   ]
  },
  {
   "cell_type": "markdown",
   "metadata": {},
   "source": [
    "What you type at the Python interactive prompt must be valid Python code for Python to understand and execute it. When you see the chevron prompt (`>>>`), Python is in a state waiting for you to input valid Python syntax. For example, `print(\"hello\")` is a valid Python statement and will result in Python printing `\"hello\"` to the screen. However, just typing `hello` without quotes or a command to execute it would result in a `NameError` unless `hello` has been defined previously as a variable or function.\n",
    "\n",
    "The 2nd option, \"What Python script would you like me to run?\" might refer to a situation where you're outside of Python, in a command line environment, and about to run a Python script from the terminal. This is indeed different from being in the interactive mode where Python is already running and awaiting your commands directly.\n",
    "\n",
    "The prompt is distinguishing that Python is already running, and it's ready for you to interact with it in a line-by-line or command-by-command manner, which is different from executing a complete script file or specifying command line arguments."
   ]
  },
  {
   "cell_type": "markdown",
   "metadata": {},
   "source": [
    "## Quiz 2\n",
    "\n",
    "In the following code,\n",
    "\n",
    "```python\n",
    "print(98.6)\n",
    "```\n",
    "What is \"98.6\"?"
   ]
  },
  {
   "cell_type": "markdown",
   "metadata": {},
   "source": [
    "In Python, and most programming languages, the concept of a constant typically refers to a value that does not change. \n",
    "\n",
    "1. **Constants vs. Literals:** In the strict sense, \"98.6\" is more accurately described as a **literal** rather than a constant. A literal is a notation for representing a fixed value in source code. In your example, \"98.6\" is a floating-point literal. \n",
    "\n",
    "2. **Constants in Python:** Python doesn't have built-in constant types as some other languages do, but it's a convention to use all-uppercase variable names to indicate a value that should not change (e.g., `MAX_SIZE = 100`). This a common practice in Python to signal to other developers that this value should not be changed. While Python does not enforce immutability on these so-called \"constants,\" the uppercase naming convention serves as a strong hint.\n",
    "\n",
    "3. **Variables and Objects:** In Python, everything is an object, including numbers, strings, functions, and classes. When you use a literal in Python, like `98.6`, Python creates an object to represent that value. So, `98.6` is indeed an object of type `float`.\n",
    "\n",
    "4. **Naming and Variables:** Since \"98.6\" doesn't have a name associated with it in the provided code, it isn't referred to as a variable. A variable in programming is a name that refers to a location in memory containing a value. If we were to write `temperature = 98.6`, `temperature` would be the variable name referring to the `98.6` object.\n",
    "\n",
    "From a more technical standpoint, considering Python’s treatment of data, \"98.6\" is a floating-point literal representing a float object, and such literals can be thought of as the most basic form of constants in the absence of a variable name.\n",
    "\n",
    "In Python, when you're working with a literal like `98.6`, under the hood, Python indeed creates a floating-point object to represent this value. This object has a unique identity (which you can see with the `id()` function), a type (`float` in this case), and a value (`98.6`). This is consistent with Python's everything-is-an-object model, where even simple values are treated as objects, each with its own identity. Every object in Python, regardless of whether it's bound to a variable name, is stored in memory, and Python maintains a reference to it. The literal `98.6` is no exception; it's just that without a variable name, this reference isn't directly accessible in the way a named variable would be. This behavior underpins Python's dynamic and high-level nature, allowing for flexible and powerful programming paradigms.\n",
    "\n",
    "Referring to \"98.6\" as a literal is indeed more precise in this context."
   ]
  }
 ],
 "metadata": {
  "kernelspec": {
   "display_name": "Python 3",
   "language": "python",
   "name": "python3"
  },
  "language_info": {
   "codemirror_mode": {
    "name": "ipython",
    "version": 3
   },
   "file_extension": ".py",
   "mimetype": "text/x-python",
   "name": "python",
   "nbconvert_exporter": "python",
   "pygments_lexer": "ipython3",
   "version": "3.11.4"
  }
 },
 "nbformat": 4,
 "nbformat_minor": 2
}
